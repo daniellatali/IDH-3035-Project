{
  "nbformat": 4,
  "nbformat_minor": 0,
  "metadata": {
    "colab": {
      "name": "Project IDH3035",
      "version": "0.3.2",
      "provenance": [],
      "collapsed_sections": []
    },
    "kernelspec": {
      "name": "python3",
      "display_name": "Python 3"
    }
  },
  "cells": [
    {
      "metadata": {
        "id": "oE_t3JuN2icc",
        "colab_type": "code",
        "outputId": "9b0c45d4-bf67-40c4-aa31-4e94e0964226",
        "colab": {
          "base_uri": "https://localhost:8080/",
          "height": 51
        }
      },
      "cell_type": "code",
      "source": [
        "# Load the Drive helper and mount\n",
        "import os\n",
        "from google.colab import drive\n",
        "\n",
        "# This will prompt for authorization.\n",
        "drive.mount('/content/drive')\n",
        "\n",
        "os.chdir('/content/drive/My Drive/IDH Project Climate Change') #choose the directory you want as the working directory\n",
        "# setting the working directory\n",
        "os.getcwd() "
      ],
      "execution_count": 0,
      "outputs": [
        {
          "output_type": "stream",
          "text": [
            "Drive already mounted at /content/drive; to attempt to forcibly remount, call drive.mount(\"/content/drive\", force_remount=True).\n"
          ],
          "name": "stdout"
        },
        {
          "output_type": "execute_result",
          "data": {
            "text/plain": [
              "'/content/drive/My Drive/IDH Project Climate Change'"
            ]
          },
          "metadata": {
            "tags": []
          },
          "execution_count": 63
        }
      ]
    },
    {
      "metadata": {
        "id": "HwwgnTfUL-94",
        "colab_type": "code",
        "colab": {}
      },
      "cell_type": "code",
      "source": [
        "import pandas as pd\n",
        "import chardet\n",
        "import numpy as np\n",
        "import matplotlib.pyplot as plt\n",
        "import pylab as pl\n",
        "import seaborn as sns\n",
        "import math\n",
        "import matplotlib.mlab as mlab\n",
        "from math import exp\n",
        "import statsmodels.api as sm\n",
        "from sklearn import linear_model\n",
        "from sklearn.linear_model import LinearRegression\n",
        "from numpy import nan as NA\n",
        "from scipy.stats import linregress\n",
        "import scipy.cluster.vq\n",
        "import scipy.spatial.distance\n",
        "from scipy.cluster.vq import kmeans,vq\n",
        "from scipy.spatial.distance import cdist"
      ],
      "execution_count": 0,
      "outputs": []
    },
    {
      "metadata": {
        "id": "nb0JHi3Mfwci",
        "colab_type": "code",
        "outputId": "509ef2ae-857a-4bf5-f839-c8691d5cea6f",
        "colab": {
          "base_uri": "https://localhost:8080/",
          "height": 85
        }
      },
      "cell_type": "code",
      "source": [
        "\n",
        "TempCountry = pd.read_csv('GlobalLandTemperaturesByCountry.csv')\n",
        "St96 = pd.read_csv('Stormdata_1996.csv', encoding='iso-8859-1')\n",
        "St97 = pd.read_csv('Stormdata_1997.csv', encoding='iso-8859-1')\n",
        "St98 = pd.read_csv('Stormdata_1998.csv', encoding='iso-8859-1')\n",
        "St99 = pd.read_csv('Stormdata_1999.csv', encoding='iso-8859-1')\n",
        "St00 = pd.read_csv('Stormdata_2000.csv', encoding='iso-8859-1')\n",
        "St01 = pd.read_csv('Stormdata_2001.csv', encoding='iso-8859-1')\n",
        "St02 = pd.read_csv('Stormdata_2002.csv', encoding='iso-8859-1')\n",
        "St03 = pd.read_csv('Stormdata_2003.csv', encoding='iso-8859-1')\n",
        "St04 = pd.read_csv('Stormdata_2004.csv', encoding='iso-8859-1')\n",
        "St05 = pd.read_csv('Stormdata_2005.csv', encoding='iso-8859-1')\n",
        "St06 = pd.read_csv('Stormdata_2006.csv', encoding='iso-8859-1')\n",
        "St07 = pd.read_csv('Stormdata_2007.csv', encoding='iso-8859-1')\n",
        "St08 = pd.read_csv('Stormdata_2008.csv', encoding='iso-8859-1')\n",
        "St09 = pd.read_csv('Stormdata_2009.csv', encoding='iso-8859-1')\n",
        "St10 = pd.read_csv('stormdata_2010.csv', encoding='iso-8859-1')\n",
        "St11 = pd.read_csv('stormdata_2011.csv', encoding='iso-8859-1')\n",
        "St12 = pd.read_csv('stormdata_2012.csv', encoding='iso-8859-1')\n",
        "St13 = pd.read_csv('stormdata_2013.csv', encoding='iso-8859-1')\n",
        "atl = pd.read_csv('atlantic.csv', encoding='iso-8859-1')\n",
        "pac = pd.read_csv('pacific.csv', encoding='iso-8859-1')"
      ],
      "execution_count": 0,
      "outputs": [
        {
          "output_type": "stream",
          "text": [
            "/usr/local/lib/python3.6/dist-packages/IPython/core/interactiveshell.py:2718: DtypeWarning: Columns (26,28,49) have mixed types. Specify dtype option on import or set low_memory=False.\n",
            "  interactivity=interactivity, compiler=compiler, result=result)\n",
            "/usr/local/lib/python3.6/dist-packages/IPython/core/interactiveshell.py:2718: DtypeWarning: Columns (28) have mixed types. Specify dtype option on import or set low_memory=False.\n",
            "  interactivity=interactivity, compiler=compiler, result=result)\n"
          ],
          "name": "stderr"
        }
      ]
    },
    {
      "metadata": {
        "id": "7-GcpCM5V38x",
        "colab_type": "code",
        "colab": {}
      },
      "cell_type": "code",
      "source": [
        "#Dropping irrelevant columns for the storm data for our project:\n",
        "\n",
        "St96.drop(columns =[\"BEGIN_YEARMONTH\",\"BEGIN_DAY\",\"BEGIN_TIME\",\"END_YEARMONTH\",\n",
        "                    \"END_DAY\",\"END_TIME\",\"EPISODE_ID\",\"EVENT_ID\", \"STATE_FIPS\",\n",
        "                    \"CZ_TYPE\",\"CZ_FIPS\",\"CZ_NAME\", \"WFO\",\"CZ_TIMEZONE\", \"BEGIN_DATE_TIME\", \n",
        "                    \"END_DATE_TIME\",\"INJURIES_DIRECT\",\"INJURIES_INDIRECT\",\"DEATHS_DIRECT\",\n",
        "                    \"DEATHS_INDIRECT\",\"DAMAGE_PROPERTY\",\"DAMAGE_CROPS\",\"SOURCE\",\n",
        "                    \"MAGNITUDE\",\"MAGNITUDE_TYPE\",\"FLOOD_CAUSE\",\"CATEGORY\",\"TOR_F_SCALE\",\n",
        "                    \"TOR_LENGTH\",\"TOR_WIDTH\",\"TOR_OTHER_WFO\",\"TOR_OTHER_CZ_STATE\",\n",
        "                    \"TOR_OTHER_CZ_FIPS\",\"TOR_OTHER_CZ_NAME\",\"BEGIN_RANGE\",\"BEGIN_AZIMUTH\",\n",
        "                    \"END_RANGE\",\"BEGIN_LOCATION\",\"END_AZIMUTH\",\"END_LOCATION\",\"BEGIN_LAT\",\"BEGIN_LON\",\n",
        "                    \"END_LAT\",\"END_LON\",\"EPISODE_NARRATIVE\",\"EVENT_NARRATIVE\",\n",
        "                    \"LAST_MOD_DATE\",\"LAST_MOD_TIME\",\"LAST_CERT_DATE\",\"LAST_CERT_TIME\",\n",
        "                    \"LAST_MOD\",\"LAST_CERT\",\"ADDCORR_FLG\",\"ADDCORR_DATE\"], inplace=True)\n",
        "St97.drop(columns =[\"BEGIN_YEARMONTH\",\"BEGIN_DAY\",\"BEGIN_TIME\",\"END_YEARMONTH\",\n",
        "                    \"END_DAY\",\"END_TIME\",\"EPISODE_ID\",\"EVENT_ID\", \"STATE_FIPS\",\n",
        "                    \"CZ_TYPE\",\"CZ_FIPS\",\"CZ_NAME\", \"WFO\",\"CZ_TIMEZONE\", \"BEGIN_DATE_TIME\", \n",
        "                    \"END_DATE_TIME\",\"INJURIES_DIRECT\",\"INJURIES_INDIRECT\",\"DEATHS_DIRECT\",\n",
        "                    \"DEATHS_INDIRECT\",\"DAMAGE_PROPERTY\",\"DAMAGE_CROPS\",\"SOURCE\",\n",
        "                    \"MAGNITUDE\",\"MAGNITUDE_TYPE\",\"FLOOD_CAUSE\",\"CATEGORY\",\"TOR_F_SCALE\",\n",
        "                    \"TOR_LENGTH\",\"TOR_WIDTH\",\"TOR_OTHER_WFO\",\"TOR_OTHER_CZ_STATE\",\n",
        "                    \"TOR_OTHER_CZ_FIPS\",\"TOR_OTHER_CZ_NAME\",\"BEGIN_RANGE\",\"BEGIN_AZIMUTH\",\n",
        "                    \"END_RANGE\",\"BEGIN_LOCATION\",\"END_AZIMUTH\",\"END_LOCATION\",\"BEGIN_LAT\",\"BEGIN_LON\",\n",
        "                    \"END_LAT\",\"END_LON\",\"EPISODE_NARRATIVE\",\"EVENT_NARRATIVE\",\n",
        "                    \"LAST_MOD_DATE\",\"LAST_MOD_TIME\",\"LAST_CERT_DATE\",\"LAST_CERT_TIME\",\n",
        "                    \"LAST_MOD\",\"LAST_CERT\",\"ADDCORR_FLG\",\"ADDCORR_DATE\"], inplace=True)\n",
        "St98.drop(columns =[\"BEGIN_YEARMONTH\",\"BEGIN_DAY\",\"BEGIN_TIME\",\"END_YEARMONTH\",\n",
        "                    \"END_DAY\",\"END_TIME\",\"EPISODE_ID\",\"EVENT_ID\", \"STATE_FIPS\",\n",
        "                    \"CZ_TYPE\",\"CZ_FIPS\",\"CZ_NAME\", \"WFO\",\"CZ_TIMEZONE\", \"BEGIN_DATE_TIME\", \n",
        "                    \"END_DATE_TIME\",\"INJURIES_DIRECT\",\"INJURIES_INDIRECT\",\"DEATHS_DIRECT\",\n",
        "                    \"DEATHS_INDIRECT\",\"DAMAGE_PROPERTY\",\"DAMAGE_CROPS\",\"SOURCE\",\n",
        "                    \"MAGNITUDE\",\"MAGNITUDE_TYPE\",\"FLOOD_CAUSE\",\"CATEGORY\",\"TOR_F_SCALE\",\n",
        "                    \"TOR_LENGTH\",\"TOR_WIDTH\",\"TOR_OTHER_WFO\",\"TOR_OTHER_CZ_STATE\",\n",
        "                    \"TOR_OTHER_CZ_FIPS\",\"TOR_OTHER_CZ_NAME\",\"BEGIN_RANGE\",\"BEGIN_AZIMUTH\",\n",
        "                    \"END_RANGE\",\"BEGIN_LOCATION\",\"END_AZIMUTH\",\"END_LOCATION\",\"BEGIN_LAT\",\"BEGIN_LON\",\n",
        "                    \"END_LAT\",\"END_LON\",\"EPISODE_NARRATIVE\",\"EVENT_NARRATIVE\",\n",
        "                    \"LAST_MOD_DATE\",\"LAST_MOD_TIME\",\"LAST_CERT_DATE\",\"LAST_CERT_TIME\",\n",
        "                    \"LAST_MOD\",\"LAST_CERT\",\"ADDCORR_FLG\",\"ADDCORR_DATE\"], inplace=True)\n",
        "St99.drop(columns =[\"BEGIN_YEARMONTH\",\"BEGIN_DAY\",\"BEGIN_TIME\",\"END_YEARMONTH\",\n",
        "                    \"END_DAY\",\"END_TIME\",\"EPISODE_ID\",\"EVENT_ID\", \"STATE_FIPS\",\n",
        "                    \"CZ_TYPE\",\"CZ_FIPS\",\"CZ_NAME\", \"WFO\",\"CZ_TIMEZONE\", \"BEGIN_DATE_TIME\", \n",
        "                    \"END_DATE_TIME\",\"INJURIES_DIRECT\",\"INJURIES_INDIRECT\",\"DEATHS_DIRECT\",\n",
        "                    \"DEATHS_INDIRECT\",\"DAMAGE_PROPERTY\",\"DAMAGE_CROPS\",\"SOURCE\",\n",
        "                    \"MAGNITUDE\",\"MAGNITUDE_TYPE\",\"FLOOD_CAUSE\",\"CATEGORY\",\"TOR_F_SCALE\",\n",
        "                    \"TOR_LENGTH\",\"TOR_WIDTH\",\"TOR_OTHER_WFO\",\"TOR_OTHER_CZ_STATE\",\n",
        "                    \"TOR_OTHER_CZ_FIPS\",\"TOR_OTHER_CZ_NAME\",\"BEGIN_RANGE\",\"BEGIN_AZIMUTH\",\n",
        "                    \"END_RANGE\",\"BEGIN_LOCATION\",\"END_AZIMUTH\",\"END_LOCATION\",\"BEGIN_LAT\",\"BEGIN_LON\",\n",
        "                    \"END_LAT\",\"END_LON\",\"EPISODE_NARRATIVE\",\"EVENT_NARRATIVE\",\n",
        "                    \"LAST_MOD_DATE\",\"LAST_MOD_TIME\",\"LAST_CERT_DATE\",\"LAST_CERT_TIME\",\n",
        "                    \"LAST_MOD\",\"LAST_CERT\",\"ADDCORR_FLG\",\"ADDCORR_DATE\"], inplace=True)\n",
        "St00.drop(columns =[\"BEGIN_YEARMONTH\",\"BEGIN_DAY\",\"BEGIN_TIME\",\"END_YEARMONTH\",\n",
        "                    \"END_DAY\",\"END_TIME\",\"EPISODE_ID\",\"EVENT_ID\", \"STATE_FIPS\",\n",
        "                    \"CZ_TYPE\",\"CZ_FIPS\",\"CZ_NAME\", \"WFO\",\"CZ_TIMEZONE\", \"BEGIN_DATE_TIME\", \n",
        "                    \"END_DATE_TIME\",\"INJURIES_DIRECT\",\"INJURIES_INDIRECT\",\"DEATHS_DIRECT\",\n",
        "                    \"DEATHS_INDIRECT\",\"DAMAGE_PROPERTY\",\"DAMAGE_CROPS\",\"SOURCE\",\n",
        "                    \"MAGNITUDE\",\"MAGNITUDE_TYPE\",\"FLOOD_CAUSE\",\"CATEGORY\",\"TOR_F_SCALE\",\n",
        "                    \"TOR_LENGTH\",\"TOR_WIDTH\",\"TOR_OTHER_WFO\",\"TOR_OTHER_CZ_STATE\",\n",
        "                    \"TOR_OTHER_CZ_FIPS\",\"TOR_OTHER_CZ_NAME\",\"BEGIN_RANGE\",\"BEGIN_AZIMUTH\",\n",
        "                    \"END_RANGE\",\"BEGIN_LOCATION\",\"END_AZIMUTH\",\"END_LOCATION\",\"BEGIN_LAT\",\"BEGIN_LON\",\n",
        "                    \"END_LAT\",\"END_LON\",\"EPISODE_NARRATIVE\",\"EVENT_NARRATIVE\",\n",
        "                    \"LAST_MOD_DATE\",\"LAST_MOD_TIME\",\"LAST_CERT_DATE\",\"LAST_CERT_TIME\",\n",
        "                    \"LAST_MOD\",\"LAST_CERT\",\"ADDCORR_FLG\",\"ADDCORR_DATE\"], inplace=True)\n",
        "St01.drop(columns =[\"BEGIN_YEARMONTH\",\"BEGIN_DAY\",\"BEGIN_TIME\",\"END_YEARMONTH\",\n",
        "                    \"END_DAY\",\"END_TIME\",\"EPISODE_ID\",\"EVENT_ID\", \"STATE_FIPS\",\n",
        "                    \"CZ_TYPE\",\"CZ_FIPS\",\"CZ_NAME\", \"WFO\",\"CZ_TIMEZONE\", \"BEGIN_DATE_TIME\", \n",
        "                    \"END_DATE_TIME\",\"INJURIES_DIRECT\",\"INJURIES_INDIRECT\",\"DEATHS_DIRECT\",\n",
        "                    \"DEATHS_INDIRECT\",\"DAMAGE_PROPERTY\",\"DAMAGE_CROPS\",\"SOURCE\",\n",
        "                    \"MAGNITUDE\",\"MAGNITUDE_TYPE\",\"FLOOD_CAUSE\",\"CATEGORY\",\"TOR_F_SCALE\",\n",
        "                    \"TOR_LENGTH\",\"TOR_WIDTH\",\"TOR_OTHER_WFO\",\"TOR_OTHER_CZ_STATE\",\n",
        "                    \"TOR_OTHER_CZ_FIPS\",\"TOR_OTHER_CZ_NAME\",\"BEGIN_RANGE\",\"BEGIN_AZIMUTH\",\n",
        "                    \"END_RANGE\",\"BEGIN_LOCATION\",\"END_AZIMUTH\",\"END_LOCATION\",\"BEGIN_LAT\",\"BEGIN_LON\",\n",
        "                    \"END_LAT\",\"END_LON\",\"EPISODE_NARRATIVE\",\"EVENT_NARRATIVE\",\n",
        "                    \"LAST_MOD_DATE\",\"LAST_MOD_TIME\",\"LAST_CERT_DATE\",\"LAST_CERT_TIME\",\n",
        "                    \"LAST_MOD\",\"LAST_CERT\",\"ADDCORR_FLG\",\"ADDCORR_DATE\"], inplace=True)\n",
        "St02.drop(columns =[\"BEGIN_YEARMONTH\",\"BEGIN_DAY\",\"BEGIN_TIME\",\"END_YEARMONTH\",\n",
        "                    \"END_DAY\",\"END_TIME\",\"EPISODE_ID\",\"EVENT_ID\", \"STATE_FIPS\",\n",
        "                    \"CZ_TYPE\",\"CZ_FIPS\",\"CZ_NAME\", \"WFO\",\"CZ_TIMEZONE\", \"BEGIN_DATE_TIME\", \n",
        "                    \"END_DATE_TIME\",\"INJURIES_DIRECT\",\"INJURIES_INDIRECT\",\"DEATHS_DIRECT\",\n",
        "                    \"DEATHS_INDIRECT\",\"DAMAGE_PROPERTY\",\"DAMAGE_CROPS\",\"SOURCE\",\n",
        "                    \"MAGNITUDE\",\"MAGNITUDE_TYPE\",\"FLOOD_CAUSE\",\"CATEGORY\",\"TOR_F_SCALE\",\n",
        "                    \"TOR_LENGTH\",\"TOR_WIDTH\",\"TOR_OTHER_WFO\",\"TOR_OTHER_CZ_STATE\",\n",
        "                    \"TOR_OTHER_CZ_FIPS\",\"TOR_OTHER_CZ_NAME\",\"BEGIN_RANGE\",\"BEGIN_AZIMUTH\",\n",
        "                    \"END_RANGE\",\"BEGIN_LOCATION\",\"END_AZIMUTH\",\"END_LOCATION\",\"BEGIN_LAT\",\"BEGIN_LON\",\n",
        "                    \"END_LAT\",\"END_LON\",\"EPISODE_NARRATIVE\",\"EVENT_NARRATIVE\",\n",
        "                    \"LAST_MOD_DATE\",\"LAST_MOD_TIME\",\"LAST_CERT_DATE\",\"LAST_CERT_TIME\",\n",
        "                    \"LAST_MOD\",\"LAST_CERT\",\"ADDCORR_FLG\",\"ADDCORR_DATE\"], inplace=True)\n",
        "St03.drop(columns =[\"BEGIN_YEARMONTH\",\"BEGIN_DAY\",\"BEGIN_TIME\",\"END_YEARMONTH\",\n",
        "                    \"END_DAY\",\"END_TIME\",\"EPISODE_ID\",\"EVENT_ID\", \"STATE_FIPS\",\n",
        "                    \"CZ_TYPE\",\"CZ_FIPS\",\"CZ_NAME\", \"WFO\",\"CZ_TIMEZONE\", \"BEGIN_DATE_TIME\", \n",
        "                    \"END_DATE_TIME\",\"INJURIES_DIRECT\",\"INJURIES_INDIRECT\",\"DEATHS_DIRECT\",\n",
        "                    \"DEATHS_INDIRECT\",\"DAMAGE_PROPERTY\",\"DAMAGE_CROPS\",\"SOURCE\",\n",
        "                    \"MAGNITUDE\",\"MAGNITUDE_TYPE\",\"FLOOD_CAUSE\",\"CATEGORY\",\"TOR_F_SCALE\",\n",
        "                    \"TOR_LENGTH\",\"TOR_WIDTH\",\"TOR_OTHER_WFO\",\"TOR_OTHER_CZ_STATE\",\n",
        "                    \"TOR_OTHER_CZ_FIPS\",\"TOR_OTHER_CZ_NAME\",\"BEGIN_RANGE\",\"BEGIN_AZIMUTH\",\n",
        "                    \"END_RANGE\",\"BEGIN_LOCATION\",\"END_AZIMUTH\",\"END_LOCATION\",\"BEGIN_LAT\",\"BEGIN_LON\",\n",
        "                    \"END_LAT\",\"END_LON\",\"EPISODE_NARRATIVE\",\"EVENT_NARRATIVE\",\n",
        "                    \"LAST_MOD_DATE\",\"LAST_MOD_TIME\",\"LAST_CERT_DATE\",\"LAST_CERT_TIME\",\n",
        "                    \"LAST_MOD\",\"LAST_CERT\",\"ADDCORR_FLG\",\"ADDCORR_DATE\"], inplace=True)\n",
        "St04.drop(columns =[\"BEGIN_YEARMONTH\",\"BEGIN_DAY\",\"BEGIN_TIME\",\"END_YEARMONTH\",\n",
        "                    \"END_DAY\",\"END_TIME\",\"EPISODE_ID\",\"EVENT_ID\", \"STATE_FIPS\",\n",
        "                    \"CZ_TYPE\",\"CZ_FIPS\",\"CZ_NAME\", \"WFO\",\"CZ_TIMEZONE\", \"BEGIN_DATE_TIME\", \n",
        "                    \"END_DATE_TIME\",\"INJURIES_DIRECT\",\"INJURIES_INDIRECT\",\"DEATHS_DIRECT\",\n",
        "                    \"DEATHS_INDIRECT\",\"DAMAGE_PROPERTY\",\"DAMAGE_CROPS\",\"SOURCE\",\n",
        "                    \"MAGNITUDE\",\"MAGNITUDE_TYPE\",\"FLOOD_CAUSE\",\"CATEGORY\",\"TOR_F_SCALE\",\n",
        "                    \"TOR_LENGTH\",\"TOR_WIDTH\",\"TOR_OTHER_WFO\",\"TOR_OTHER_CZ_STATE\",\n",
        "                    \"TOR_OTHER_CZ_FIPS\",\"TOR_OTHER_CZ_NAME\",\"BEGIN_RANGE\",\"BEGIN_AZIMUTH\",\n",
        "                    \"END_RANGE\",\"BEGIN_LOCATION\",\"END_AZIMUTH\",\"END_LOCATION\",\"BEGIN_LAT\",\"BEGIN_LON\",\n",
        "                    \"END_LAT\",\"END_LON\",\"EPISODE_NARRATIVE\",\"EVENT_NARRATIVE\",\n",
        "                    \"LAST_MOD_DATE\",\"LAST_MOD_TIME\",\"LAST_CERT_DATE\",\"LAST_CERT_TIME\",\n",
        "                    \"LAST_MOD\",\"LAST_CERT\",\"ADDCORR_FLG\",\"ADDCORR_DATE\"], inplace=True)\n",
        "St05.drop(columns =[\"BEGIN_YEARMONTH\",\"BEGIN_DAY\",\"BEGIN_TIME\",\"END_YEARMONTH\",\n",
        "                    \"END_DAY\",\"END_TIME\",\"EPISODE_ID\",\"EVENT_ID\", \"STATE_FIPS\",\n",
        "                    \"CZ_TYPE\",\"CZ_FIPS\",\"CZ_NAME\", \"WFO\",\"CZ_TIMEZONE\", \"BEGIN_DATE_TIME\", \n",
        "                    \"END_DATE_TIME\",\"INJURIES_DIRECT\",\"INJURIES_INDIRECT\",\"DEATHS_DIRECT\",\n",
        "                    \"DEATHS_INDIRECT\",\"DAMAGE_PROPERTY\",\"DAMAGE_CROPS\",\"SOURCE\",\n",
        "                    \"MAGNITUDE\",\"MAGNITUDE_TYPE\",\"FLOOD_CAUSE\",\"CATEGORY\",\"TOR_F_SCALE\",\n",
        "                    \"TOR_LENGTH\",\"TOR_WIDTH\",\"TOR_OTHER_WFO\",\"TOR_OTHER_CZ_STATE\",\n",
        "                    \"TOR_OTHER_CZ_FIPS\",\"TOR_OTHER_CZ_NAME\",\"BEGIN_RANGE\",\"BEGIN_AZIMUTH\",\n",
        "                    \"END_RANGE\",\"BEGIN_LOCATION\",\"END_AZIMUTH\",\"END_LOCATION\",\"BEGIN_LAT\",\"BEGIN_LON\",\n",
        "                    \"END_LAT\",\"END_LON\",\"EPISODE_NARRATIVE\",\"EVENT_NARRATIVE\",\n",
        "                    \"LAST_MOD_DATE\",\"LAST_MOD_TIME\",\"LAST_CERT_DATE\",\"LAST_CERT_TIME\",\n",
        "                    \"LAST_MOD\",\"LAST_CERT\",\"ADDCORR_FLG\",\"ADDCORR_DATE\"], inplace=True)\n",
        "St06.drop(columns =[\"BEGIN_YEARMONTH\",\"BEGIN_DAY\",\"BEGIN_TIME\",\"END_YEARMONTH\",\n",
        "                    \"END_DAY\",\"END_TIME\",\"EPISODE_ID\",\"EVENT_ID\", \"STATE_FIPS\",\n",
        "                    \"CZ_TYPE\",\"CZ_FIPS\",\"CZ_NAME\", \"WFO\",\"CZ_TIMEZONE\", \"BEGIN_DATE_TIME\", \n",
        "                    \"END_DATE_TIME\",\"INJURIES_DIRECT\",\"INJURIES_INDIRECT\",\"DEATHS_DIRECT\",\n",
        "                    \"DEATHS_INDIRECT\",\"DAMAGE_PROPERTY\",\"DAMAGE_CROPS\",\"SOURCE\",\n",
        "                    \"MAGNITUDE\",\"MAGNITUDE_TYPE\",\"FLOOD_CAUSE\",\"CATEGORY\",\"TOR_F_SCALE\",\n",
        "                    \"TOR_LENGTH\",\"TOR_WIDTH\",\"TOR_OTHER_WFO\",\"TOR_OTHER_CZ_STATE\",\n",
        "                    \"TOR_OTHER_CZ_FIPS\",\"TOR_OTHER_CZ_NAME\",\"BEGIN_RANGE\",\"BEGIN_AZIMUTH\",\n",
        "                    \"END_RANGE\",\"BEGIN_LOCATION\",\"END_AZIMUTH\",\"END_LOCATION\",\"BEGIN_LAT\",\"BEGIN_LON\",\n",
        "                    \"END_LAT\",\"END_LON\",\"EPISODE_NARRATIVE\",\"EVENT_NARRATIVE\",\n",
        "                    \"LAST_MOD_DATE\",\"LAST_MOD_TIME\",\"LAST_CERT_DATE\",\"LAST_CERT_TIME\",\n",
        "                    \"LAST_MOD\",\"LAST_CERT\",\"ADDCORR_FLG\",\"ADDCORR_DATE\"], inplace=True)\n",
        "St07.drop(columns =[\"BEGIN_YEARMONTH\",\"BEGIN_DAY\",\"BEGIN_TIME\",\"END_YEARMONTH\",\n",
        "                    \"END_DAY\",\"END_TIME\",\"EPISODE_ID\",\"EVENT_ID\", \"STATE_FIPS\",\n",
        "                    \"CZ_TYPE\",\"CZ_FIPS\",\"CZ_NAME\", \"WFO\",\"CZ_TIMEZONE\", \"BEGIN_DATE_TIME\", \n",
        "                    \"END_DATE_TIME\",\"INJURIES_DIRECT\",\"INJURIES_INDIRECT\",\"DEATHS_DIRECT\",\n",
        "                    \"DEATHS_INDIRECT\",\"DAMAGE_PROPERTY\",\"DAMAGE_CROPS\",\"SOURCE\",\n",
        "                    \"MAGNITUDE\",\"MAGNITUDE_TYPE\",\"FLOOD_CAUSE\",\"CATEGORY\",\"TOR_F_SCALE\",\n",
        "                    \"TOR_LENGTH\",\"TOR_WIDTH\",\"TOR_OTHER_WFO\",\"TOR_OTHER_CZ_STATE\",\n",
        "                    \"TOR_OTHER_CZ_FIPS\",\"TOR_OTHER_CZ_NAME\",\"BEGIN_RANGE\",\"BEGIN_AZIMUTH\",\n",
        "                    \"END_RANGE\",\"BEGIN_LOCATION\",\"END_AZIMUTH\",\"END_LOCATION\",\"BEGIN_LAT\",\"BEGIN_LON\",\n",
        "                    \"END_LAT\",\"END_LON\",\"EPISODE_NARRATIVE\",\"EVENT_NARRATIVE\",\n",
        "                    \"LAST_MOD_DATE\",\"LAST_MOD_TIME\",\"LAST_CERT_DATE\",\"LAST_CERT_TIME\",\n",
        "                    \"LAST_MOD\",\"LAST_CERT\",\"ADDCORR_FLG\",\"ADDCORR_DATE\"], inplace=True)\n",
        "St08.drop(columns =[\"BEGIN_YEARMONTH\",\"BEGIN_DAY\",\"BEGIN_TIME\",\"END_YEARMONTH\",\n",
        "                    \"END_DAY\",\"END_TIME\",\"EPISODE_ID\",\"EVENT_ID\", \"STATE_FIPS\",\n",
        "                    \"CZ_TYPE\",\"CZ_FIPS\",\"CZ_NAME\", \"WFO\",\"CZ_TIMEZONE\", \"BEGIN_DATE_TIME\", \n",
        "                    \"END_DATE_TIME\",\"INJURIES_DIRECT\",\"INJURIES_INDIRECT\",\"DEATHS_DIRECT\",\n",
        "                    \"DEATHS_INDIRECT\",\"DAMAGE_PROPERTY\",\"DAMAGE_CROPS\",\"SOURCE\",\n",
        "                    \"MAGNITUDE\",\"MAGNITUDE_TYPE\",\"FLOOD_CAUSE\",\"CATEGORY\",\"TOR_F_SCALE\",\n",
        "                    \"TOR_LENGTH\",\"TOR_WIDTH\",\"TOR_OTHER_WFO\",\"TOR_OTHER_CZ_STATE\",\n",
        "                    \"TOR_OTHER_CZ_FIPS\",\"TOR_OTHER_CZ_NAME\",\"BEGIN_RANGE\",\"BEGIN_AZIMUTH\",\n",
        "                    \"END_RANGE\",\"BEGIN_LOCATION\",\"END_AZIMUTH\",\"END_LOCATION\",\"BEGIN_LAT\",\"BEGIN_LON\",\n",
        "                    \"END_LAT\",\"END_LON\",\"EPISODE_NARRATIVE\",\"EVENT_NARRATIVE\",\n",
        "                    \"LAST_MOD_DATE\",\"LAST_MOD_TIME\",\"LAST_CERT_DATE\",\"LAST_CERT_TIME\",\n",
        "                    \"LAST_MOD\",\"LAST_CERT\",\"ADDCORR_FLG\",\"ADDCORR_DATE\"], inplace=True)\n",
        "St09.drop(columns =[\"BEGIN_YEARMONTH\",\"BEGIN_DAY\",\"BEGIN_TIME\",\"END_YEARMONTH\",\n",
        "                    \"END_DAY\",\"END_TIME\",\"EPISODE_ID\",\"EVENT_ID\", \"STATE_FIPS\",\n",
        "                    \"CZ_TYPE\",\"CZ_FIPS\",\"CZ_NAME\", \"WFO\",\"CZ_TIMEZONE\", \"BEGIN_DATE_TIME\", \n",
        "                    \"END_DATE_TIME\",\"INJURIES_DIRECT\",\"INJURIES_INDIRECT\",\"DEATHS_DIRECT\",\n",
        "                    \"DEATHS_INDIRECT\",\"DAMAGE_PROPERTY\",\"DAMAGE_CROPS\",\"SOURCE\",\n",
        "                    \"MAGNITUDE\",\"MAGNITUDE_TYPE\",\"FLOOD_CAUSE\",\"CATEGORY\",\"TOR_F_SCALE\",\n",
        "                    \"TOR_LENGTH\",\"TOR_WIDTH\",\"TOR_OTHER_WFO\",\"TOR_OTHER_CZ_STATE\",\n",
        "                    \"TOR_OTHER_CZ_FIPS\",\"TOR_OTHER_CZ_NAME\",\"BEGIN_RANGE\",\"BEGIN_AZIMUTH\",\n",
        "                    \"END_RANGE\",\"BEGIN_LOCATION\",\"END_AZIMUTH\",\"END_LOCATION\",\"BEGIN_LAT\",\"BEGIN_LON\",\n",
        "                    \"END_LAT\",\"END_LON\",\"EPISODE_NARRATIVE\",\"EVENT_NARRATIVE\",\n",
        "                    \"LAST_MOD_DATE\",\"LAST_MOD_TIME\",\"LAST_CERT_DATE\",\"LAST_CERT_TIME\",\n",
        "                    \"LAST_MOD\",\"LAST_CERT\",\"ADDCORR_FLG\",\"ADDCORR_DATE\"], inplace=True)\n",
        "St10.drop(columns =[\"BEGIN_YEARMONTH\",\"BEGIN_DAY\",\"BEGIN_TIME\",\"END_YEARMONTH\",\n",
        "                    \"END_DAY\",\"END_TIME\",\"EPISODE_ID\",\"EVENT_ID\", \"STATE_FIPS\",\n",
        "                    \"CZ_TYPE\",\"CZ_FIPS\",\"CZ_NAME\", \"WFO\",\"CZ_TIMEZONE\", \"BEGIN_DATE_TIME\", \n",
        "                    \"END_DATE_TIME\",\"INJURIES_DIRECT\",\"INJURIES_INDIRECT\",\"DEATHS_DIRECT\",\n",
        "                    \"DEATHS_INDIRECT\",\"DAMAGE_PROPERTY\",\"DAMAGE_CROPS\",\"SOURCE\",\n",
        "                    \"MAGNITUDE\",\"MAGNITUDE_TYPE\",\"FLOOD_CAUSE\",\"CATEGORY\",\"TOR_F_SCALE\",\n",
        "                    \"TOR_LENGTH\",\"TOR_WIDTH\",\"TOR_OTHER_WFO\",\"TOR_OTHER_CZ_STATE\",\n",
        "                    \"TOR_OTHER_CZ_FIPS\",\"TOR_OTHER_CZ_NAME\",\"BEGIN_RANGE\",\"BEGIN_AZIMUTH\",\n",
        "                    \"END_RANGE\",\"BEGIN_LOCATION\",\"END_AZIMUTH\",\"END_LOCATION\",\"BEGIN_LAT\",\"BEGIN_LON\",\n",
        "                    \"END_LAT\",\"END_LON\",\"EPISODE_NARRATIVE\",\"EVENT_NARRATIVE\",\n",
        "                    \"LAST_MOD_DATE\",\"LAST_MOD_TIME\",\"LAST_CERT_DATE\",\"LAST_CERT_TIME\",\n",
        "                    \"LAST_MOD\",\"LAST_CERT\",\"ADDCORR_FLG\",\"ADDCORR_DATE\"], inplace=True)\n",
        "St11.drop(columns =[\"BEGIN_YEARMONTH\",\"BEGIN_DAY\",\"BEGIN_TIME\",\"END_YEARMONTH\",\n",
        "                    \"END_DAY\",\"END_TIME\",\"EPISODE_ID\",\"EVENT_ID\", \"STATE_FIPS\",\n",
        "                    \"CZ_TYPE\",\"CZ_FIPS\",\"CZ_NAME\", \"WFO\",\"CZ_TIMEZONE\", \"BEGIN_DATE_TIME\", \n",
        "                    \"END_DATE_TIME\",\"INJURIES_DIRECT\",\"INJURIES_INDIRECT\",\"DEATHS_DIRECT\",\n",
        "                    \"DEATHS_INDIRECT\",\"DAMAGE_PROPERTY\",\"DAMAGE_CROPS\",\"SOURCE\",\n",
        "                    \"MAGNITUDE\",\"MAGNITUDE_TYPE\",\"FLOOD_CAUSE\",\"CATEGORY\",\"TOR_F_SCALE\",\n",
        "                    \"TOR_LENGTH\",\"TOR_WIDTH\",\"TOR_OTHER_WFO\",\"TOR_OTHER_CZ_STATE\",\n",
        "                    \"TOR_OTHER_CZ_FIPS\",\"TOR_OTHER_CZ_NAME\",\"BEGIN_RANGE\",\"BEGIN_AZIMUTH\",\n",
        "                    \"END_RANGE\",\"BEGIN_LOCATION\",\"END_AZIMUTH\",\"END_LOCATION\",\"BEGIN_LAT\",\"BEGIN_LON\",\n",
        "                    \"END_LAT\",\"END_LON\",\"EPISODE_NARRATIVE\",\"EVENT_NARRATIVE\",\n",
        "                    \"LAST_MOD_DATE\",\"LAST_MOD_TIME\",\"LAST_CERT_DATE\",\"LAST_CERT_TIME\",\n",
        "                    \"LAST_MOD\",\"LAST_CERT\",\"ADDCORR_FLG\",\"ADDCORR_DATE\"], inplace=True)\n",
        "St12.drop(columns =[\"BEGIN_YEARMONTH\",\"BEGIN_DAY\",\"BEGIN_TIME\",\"END_YEARMONTH\",\n",
        "                    \"END_DAY\",\"END_TIME\",\"EPISODE_ID\",\"EVENT_ID\", \"STATE_FIPS\",\n",
        "                    \"CZ_TYPE\",\"CZ_FIPS\",\"CZ_NAME\", \"WFO\",\"CZ_TIMEZONE\", \"BEGIN_DATE_TIME\", \n",
        "                    \"END_DATE_TIME\",\"INJURIES_DIRECT\",\"INJURIES_INDIRECT\",\"DEATHS_DIRECT\",\n",
        "                    \"DEATHS_INDIRECT\",\"DAMAGE_PROPERTY\",\"DAMAGE_CROPS\",\"SOURCE\",\n",
        "                    \"MAGNITUDE\",\"MAGNITUDE_TYPE\",\"FLOOD_CAUSE\",\"CATEGORY\",\"TOR_F_SCALE\",\n",
        "                    \"TOR_LENGTH\",\"TOR_WIDTH\",\"TOR_OTHER_WFO\",\"TOR_OTHER_CZ_STATE\",\n",
        "                    \"TOR_OTHER_CZ_FIPS\",\"TOR_OTHER_CZ_NAME\",\"BEGIN_RANGE\",\"BEGIN_AZIMUTH\",\n",
        "                    \"END_RANGE\",\"BEGIN_LOCATION\",\"END_AZIMUTH\",\"END_LOCATION\",\"BEGIN_LAT\",\"BEGIN_LON\",\n",
        "                    \"END_LAT\",\"END_LON\",\"EPISODE_NARRATIVE\",\"EVENT_NARRATIVE\",\n",
        "                    \"LAST_MOD_DATE\",\"LAST_MOD_TIME\",\"LAST_CERT_DATE\",\"LAST_CERT_TIME\",\n",
        "                    \"LAST_MOD\",\"LAST_CERT\",\"ADDCORR_FLG\",\"ADDCORR_DATE\"], inplace=True)\n",
        "St13.drop(columns =[\"BEGIN_YEARMONTH\",\"BEGIN_DAY\",\"BEGIN_TIME\",\"END_YEARMONTH\",\n",
        "                    \"END_DAY\",\"END_TIME\",\"EPISODE_ID\",\"EVENT_ID\", \"STATE_FIPS\",\n",
        "                    \"CZ_TYPE\",\"CZ_FIPS\",\"CZ_NAME\", \"WFO\",\"CZ_TIMEZONE\", \"BEGIN_DATE_TIME\", \n",
        "                    \"END_DATE_TIME\",\"INJURIES_DIRECT\",\"INJURIES_INDIRECT\",\"DEATHS_DIRECT\",\n",
        "                    \"DEATHS_INDIRECT\",\"DAMAGE_PROPERTY\",\"DAMAGE_CROPS\",\"SOURCE\",\n",
        "                    \"MAGNITUDE\",\"MAGNITUDE_TYPE\",\"FLOOD_CAUSE\",\"CATEGORY\",\"TOR_F_SCALE\",\n",
        "                    \"TOR_LENGTH\",\"TOR_WIDTH\",\"TOR_OTHER_WFO\",\"TOR_OTHER_CZ_STATE\",\n",
        "                    \"TOR_OTHER_CZ_FIPS\",\"TOR_OTHER_CZ_NAME\",\"BEGIN_RANGE\",\"BEGIN_AZIMUTH\",\n",
        "                    \"END_RANGE\",\"BEGIN_LOCATION\",\"END_AZIMUTH\",\"END_LOCATION\",\"BEGIN_LAT\",\"BEGIN_LON\",\n",
        "                    \"END_LAT\",\"END_LON\",\"EPISODE_NARRATIVE\",\"EVENT_NARRATIVE\",\n",
        "                    \"LAST_MOD_DATE\",\"LAST_MOD_TIME\",\"LAST_CERT_DATE\",\"LAST_CERT_TIME\",\n",
        "                    \"LAST_MOD\",\"LAST_CERT\",\"ADDCORR_FLG\",\"ADDCORR_DATE\"], inplace=True)"
      ],
      "execution_count": 0,
      "outputs": []
    },
    {
      "metadata": {
        "id": "4-okUckmXafr",
        "colab_type": "code",
        "outputId": "75c2b385-2847-4317-aa28-3561a55c6be0",
        "colab": {
          "base_uri": "https://localhost:8080/",
          "height": 204
        }
      },
      "cell_type": "code",
      "source": [
        "St13.head()"
      ],
      "execution_count": 0,
      "outputs": [
        {
          "output_type": "execute_result",
          "data": {
            "text/html": [
              "<div>\n",
              "<style scoped>\n",
              "    .dataframe tbody tr th:only-of-type {\n",
              "        vertical-align: middle;\n",
              "    }\n",
              "\n",
              "    .dataframe tbody tr th {\n",
              "        vertical-align: top;\n",
              "    }\n",
              "\n",
              "    .dataframe thead th {\n",
              "        text-align: right;\n",
              "    }\n",
              "</style>\n",
              "<table border=\"1\" class=\"dataframe\">\n",
              "  <thead>\n",
              "    <tr style=\"text-align: right;\">\n",
              "      <th></th>\n",
              "      <th>STATE</th>\n",
              "      <th>YEAR</th>\n",
              "      <th>MONTH_NAME</th>\n",
              "      <th>EVENT_TYPE</th>\n",
              "    </tr>\n",
              "  </thead>\n",
              "  <tbody>\n",
              "    <tr>\n",
              "      <th>0</th>\n",
              "      <td>ALABAMA</td>\n",
              "      <td>2013</td>\n",
              "      <td>January</td>\n",
              "      <td>Drought</td>\n",
              "    </tr>\n",
              "    <tr>\n",
              "      <th>1</th>\n",
              "      <td>COLORADO</td>\n",
              "      <td>2013</td>\n",
              "      <td>January</td>\n",
              "      <td>Drought</td>\n",
              "    </tr>\n",
              "    <tr>\n",
              "      <th>2</th>\n",
              "      <td>CALIFORNIA</td>\n",
              "      <td>2013</td>\n",
              "      <td>January</td>\n",
              "      <td>Sneakerwave</td>\n",
              "    </tr>\n",
              "    <tr>\n",
              "      <th>3</th>\n",
              "      <td>WYOMING</td>\n",
              "      <td>2013</td>\n",
              "      <td>January</td>\n",
              "      <td>Heavy Snow</td>\n",
              "    </tr>\n",
              "    <tr>\n",
              "      <th>4</th>\n",
              "      <td>SOUTH DAKOTA</td>\n",
              "      <td>2013</td>\n",
              "      <td>January</td>\n",
              "      <td>Heavy Snow</td>\n",
              "    </tr>\n",
              "  </tbody>\n",
              "</table>\n",
              "</div>"
            ],
            "text/plain": [
              "          STATE  YEAR MONTH_NAME   EVENT_TYPE\n",
              "0       ALABAMA  2013    January      Drought\n",
              "1      COLORADO  2013    January      Drought\n",
              "2    CALIFORNIA  2013    January  Sneakerwave\n",
              "3       WYOMING  2013    January   Heavy Snow\n",
              "4  SOUTH DAKOTA  2013    January   Heavy Snow"
            ]
          },
          "metadata": {
            "tags": []
          },
          "execution_count": 67
        }
      ]
    },
    {
      "metadata": {
        "id": "Gzcq_e52kFGj",
        "colab_type": "code",
        "colab": {}
      },
      "cell_type": "code",
      "source": [
        "#Dropping all irrelevant data from the Global temperature data since we only want the U.S data:\n",
        "TC2 = TempCountry[TempCountry.Country =='United States']\n",
        "\n",
        "#getting average temperatures of USA from 1996-2013 manually\n",
        "avgTemp96 = 8.7543\n",
        "avgTemp97 = 9.175\n",
        "avgTemp98 = 10.228\n",
        "avgTemp99 = 9.567\n",
        "avgTemp00 = 9.6498\n",
        "avgTemp01 = 9.786\n",
        "avgTemp02 = 9.8162\n",
        "avgTemp03 = 9.7551\n",
        "avgTemp04 = 9.6675\n",
        "avgTemp05 = 9.893\n",
        "avgTemp06 = 9.9745\n",
        "avgTemp07 = 9.8375\n",
        "avgTemp08 = 8.9514\n",
        "avgTemp09 = 9.1371\n",
        "avgTemp10 = 9.5056\n",
        "avgTemp11 = 9.5499\n",
        "avgTemp12 = 10.2628\n",
        "avgTemp13 = 9.4526\n",
        "\n",
        "allAvgTemps = [avgTemp96, avgTemp97, avgTemp98, avgTemp99, avgTemp00, avgTemp01, \n",
        "               avgTemp02, avgTemp03, avgTemp04, avgTemp05, avgTemp06, avgTemp07, \n",
        "               avgTemp08, avgTemp09, avgTemp10, avgTemp11, avgTemp12, avgTemp13] \n",
        "\n"
      ],
      "execution_count": 0,
      "outputs": []
    },
    {
      "metadata": {
        "id": "mUz5EyfAQqUl",
        "colab_type": "code",
        "outputId": "ee60c812-d460-4551-fc15-5d42191e8918",
        "colab": {
          "base_uri": "https://localhost:8080/",
          "height": 204
        }
      },
      "cell_type": "code",
      "source": [
        "TC2.head()"
      ],
      "execution_count": 0,
      "outputs": [
        {
          "output_type": "execute_result",
          "data": {
            "text/html": [
              "<div>\n",
              "<style scoped>\n",
              "    .dataframe tbody tr th:only-of-type {\n",
              "        vertical-align: middle;\n",
              "    }\n",
              "\n",
              "    .dataframe tbody tr th {\n",
              "        vertical-align: top;\n",
              "    }\n",
              "\n",
              "    .dataframe thead th {\n",
              "        text-align: right;\n",
              "    }\n",
              "</style>\n",
              "<table border=\"1\" class=\"dataframe\">\n",
              "  <thead>\n",
              "    <tr style=\"text-align: right;\">\n",
              "      <th></th>\n",
              "      <th>dt</th>\n",
              "      <th>AverageTemperature</th>\n",
              "      <th>AverageTemperatureUncertainty</th>\n",
              "      <th>Country</th>\n",
              "    </tr>\n",
              "  </thead>\n",
              "  <tbody>\n",
              "    <tr>\n",
              "      <th>554880</th>\n",
              "      <td>1768-09-01</td>\n",
              "      <td>15.420</td>\n",
              "      <td>2.880</td>\n",
              "      <td>United States</td>\n",
              "    </tr>\n",
              "    <tr>\n",
              "      <th>554881</th>\n",
              "      <td>1768-10-01</td>\n",
              "      <td>8.162</td>\n",
              "      <td>3.386</td>\n",
              "      <td>United States</td>\n",
              "    </tr>\n",
              "    <tr>\n",
              "      <th>554882</th>\n",
              "      <td>1768-11-01</td>\n",
              "      <td>1.591</td>\n",
              "      <td>3.783</td>\n",
              "      <td>United States</td>\n",
              "    </tr>\n",
              "    <tr>\n",
              "      <th>554883</th>\n",
              "      <td>1768-12-01</td>\n",
              "      <td>-2.882</td>\n",
              "      <td>4.979</td>\n",
              "      <td>United States</td>\n",
              "    </tr>\n",
              "    <tr>\n",
              "      <th>554884</th>\n",
              "      <td>1769-01-01</td>\n",
              "      <td>-3.952</td>\n",
              "      <td>4.856</td>\n",
              "      <td>United States</td>\n",
              "    </tr>\n",
              "  </tbody>\n",
              "</table>\n",
              "</div>"
            ],
            "text/plain": [
              "                dt  AverageTemperature  AverageTemperatureUncertainty  \\\n",
              "554880  1768-09-01              15.420                          2.880   \n",
              "554881  1768-10-01               8.162                          3.386   \n",
              "554882  1768-11-01               1.591                          3.783   \n",
              "554883  1768-12-01              -2.882                          4.979   \n",
              "554884  1769-01-01              -3.952                          4.856   \n",
              "\n",
              "              Country  \n",
              "554880  United States  \n",
              "554881  United States  \n",
              "554882  United States  \n",
              "554883  United States  \n",
              "554884  United States  "
            ]
          },
          "metadata": {
            "tags": []
          },
          "execution_count": 69
        }
      ]
    },
    {
      "metadata": {
        "id": "Haw9QuEZU8M4",
        "colab_type": "code",
        "colab": {}
      },
      "cell_type": "code",
      "source": [
        "#Removing irrelevant data columns from the atlantic and pacific hurricanes and typhoons data:\n",
        "atl.drop(columns =[\"ID\",\"Time\",\"Event\",\"Latitude\",\"Longitude\",\n",
        "                   \"Maximum Wind\",\"Minimum Pressure\",\"Low Wind NE\",\"Low Wind SE\",\n",
        "                   \"Low Wind SW\",\"Low Wind NW\",\"Moderate Wind NE\",\"Moderate Wind SE\",\n",
        "                   \"Moderate Wind NW\",\"Moderate Wind SW\",\"High Wind NE\",\"High Wind SE\",\n",
        "                   \"High Wind NW\",\"High Wind SW\"],inplace=True)\n",
        "pac.drop(columns =[\"ID\",\"Time\",\"Event\",\"Latitude\",\"Longitude\",\n",
        "                   \"Maximum Wind\",\"Minimum Pressure\",\"Low Wind NE\",\"Low Wind SE\",\n",
        "                   \"Low Wind SW\",\"Low Wind NW\",\"Moderate Wind NE\",\"Moderate Wind SE\",\n",
        "                   \"Moderate Wind NW\",\"Moderate Wind SW\",\"High Wind NE\",\"High Wind SE\",\n",
        "                   \"High Wind NW\",\"High Wind SW\"],inplace=True)"
      ],
      "execution_count": 0,
      "outputs": []
    },
    {
      "metadata": {
        "id": "qLJBWad9aFVc",
        "colab_type": "code",
        "outputId": "3e317021-9d07-451f-8a67-b8ffe9218cf9",
        "colab": {
          "base_uri": "https://localhost:8080/",
          "height": 204
        }
      },
      "cell_type": "code",
      "source": [
        "atl.head()"
      ],
      "execution_count": 0,
      "outputs": [
        {
          "output_type": "execute_result",
          "data": {
            "text/html": [
              "<div>\n",
              "<style scoped>\n",
              "    .dataframe tbody tr th:only-of-type {\n",
              "        vertical-align: middle;\n",
              "    }\n",
              "\n",
              "    .dataframe tbody tr th {\n",
              "        vertical-align: top;\n",
              "    }\n",
              "\n",
              "    .dataframe thead th {\n",
              "        text-align: right;\n",
              "    }\n",
              "</style>\n",
              "<table border=\"1\" class=\"dataframe\">\n",
              "  <thead>\n",
              "    <tr style=\"text-align: right;\">\n",
              "      <th></th>\n",
              "      <th>Name</th>\n",
              "      <th>Date</th>\n",
              "      <th>Status</th>\n",
              "    </tr>\n",
              "  </thead>\n",
              "  <tbody>\n",
              "    <tr>\n",
              "      <th>0</th>\n",
              "      <td>UNNAMED</td>\n",
              "      <td>18510625</td>\n",
              "      <td>HU</td>\n",
              "    </tr>\n",
              "    <tr>\n",
              "      <th>1</th>\n",
              "      <td>UNNAMED</td>\n",
              "      <td>18510625</td>\n",
              "      <td>HU</td>\n",
              "    </tr>\n",
              "    <tr>\n",
              "      <th>2</th>\n",
              "      <td>UNNAMED</td>\n",
              "      <td>18510625</td>\n",
              "      <td>HU</td>\n",
              "    </tr>\n",
              "    <tr>\n",
              "      <th>3</th>\n",
              "      <td>UNNAMED</td>\n",
              "      <td>18510625</td>\n",
              "      <td>HU</td>\n",
              "    </tr>\n",
              "    <tr>\n",
              "      <th>4</th>\n",
              "      <td>UNNAMED</td>\n",
              "      <td>18510625</td>\n",
              "      <td>HU</td>\n",
              "    </tr>\n",
              "  </tbody>\n",
              "</table>\n",
              "</div>"
            ],
            "text/plain": [
              "                  Name      Date Status\n",
              "0              UNNAMED  18510625     HU\n",
              "1              UNNAMED  18510625     HU\n",
              "2              UNNAMED  18510625     HU\n",
              "3              UNNAMED  18510625     HU\n",
              "4              UNNAMED  18510625     HU"
            ]
          },
          "metadata": {
            "tags": []
          },
          "execution_count": 71
        }
      ]
    },
    {
      "metadata": {
        "id": "_1zY-PO5aLRD",
        "colab_type": "code",
        "outputId": "8be947b4-62fe-400f-86c8-670ea9b6f7ed",
        "colab": {
          "base_uri": "https://localhost:8080/",
          "height": 204
        }
      },
      "cell_type": "code",
      "source": [
        "pac.head()"
      ],
      "execution_count": 0,
      "outputs": [
        {
          "output_type": "execute_result",
          "data": {
            "text/html": [
              "<div>\n",
              "<style scoped>\n",
              "    .dataframe tbody tr th:only-of-type {\n",
              "        vertical-align: middle;\n",
              "    }\n",
              "\n",
              "    .dataframe tbody tr th {\n",
              "        vertical-align: top;\n",
              "    }\n",
              "\n",
              "    .dataframe thead th {\n",
              "        text-align: right;\n",
              "    }\n",
              "</style>\n",
              "<table border=\"1\" class=\"dataframe\">\n",
              "  <thead>\n",
              "    <tr style=\"text-align: right;\">\n",
              "      <th></th>\n",
              "      <th>Name</th>\n",
              "      <th>Date</th>\n",
              "      <th>Status</th>\n",
              "    </tr>\n",
              "  </thead>\n",
              "  <tbody>\n",
              "    <tr>\n",
              "      <th>0</th>\n",
              "      <td>UNNAMED</td>\n",
              "      <td>19490611</td>\n",
              "      <td>TS</td>\n",
              "    </tr>\n",
              "    <tr>\n",
              "      <th>1</th>\n",
              "      <td>UNNAMED</td>\n",
              "      <td>19490611</td>\n",
              "      <td>TS</td>\n",
              "    </tr>\n",
              "    <tr>\n",
              "      <th>2</th>\n",
              "      <td>UNNAMED</td>\n",
              "      <td>19490611</td>\n",
              "      <td>TS</td>\n",
              "    </tr>\n",
              "    <tr>\n",
              "      <th>3</th>\n",
              "      <td>UNNAMED</td>\n",
              "      <td>19490611</td>\n",
              "      <td>TS</td>\n",
              "    </tr>\n",
              "    <tr>\n",
              "      <th>4</th>\n",
              "      <td>UNNAMED</td>\n",
              "      <td>19490612</td>\n",
              "      <td>TS</td>\n",
              "    </tr>\n",
              "  </tbody>\n",
              "</table>\n",
              "</div>"
            ],
            "text/plain": [
              "                  Name      Date Status\n",
              "0              UNNAMED  19490611     TS\n",
              "1              UNNAMED  19490611     TS\n",
              "2              UNNAMED  19490611     TS\n",
              "3              UNNAMED  19490611     TS\n",
              "4              UNNAMED  19490612     TS"
            ]
          },
          "metadata": {
            "tags": []
          },
          "execution_count": 72
        }
      ]
    },
    {
      "metadata": {
        "id": "zbC0SUU-ea4e",
        "colab_type": "code",
        "outputId": "2534fa38-a6ac-48b2-8820-20db52d3c87c",
        "colab": {
          "base_uri": "https://localhost:8080/",
          "height": 106
        }
      },
      "cell_type": "code",
      "source": [
        "#Dropping all NAN/null values in each dataset\n",
        "St96.dropna()\n",
        "St97.dropna()\n",
        "St98.dropna()\n",
        "St99.dropna()\n",
        "St00.dropna()\n",
        "St01.dropna()\n",
        "St02.dropna()\n",
        "St03.dropna()\n",
        "St04.dropna()\n",
        "St05.dropna()\n",
        "St06.dropna()\n",
        "St07.dropna()\n",
        "St08.dropna()\n",
        "St09.dropna()\n",
        "St10.dropna()\n",
        "St11.dropna()\n",
        "St12.dropna()\n",
        "St13.dropna()\n",
        "atl.dropna()\n",
        "pac.dropna()\n",
        "TC2.dropna()\n",
        "\n",
        "\n",
        "#merging all the storm data sets\n",
        "filenames = ['Stormdata_1996.csv', 'Stormdata_1997.csv', 'Stormdata_1998.csv', 'Stormdata_1999.csv', 'Stormdata_2000.csv', 'Stormdata_2001.csv', 'Stormdata_2002.csv', 'Stormdata_2003.csv'\n",
        "            , 'Stormdata_2004.csv', 'Stormdata_2005.csv', 'Stormdata_2006.csv', 'Stormdata_2007.csv', 'Stormdata_2008.csv', 'Stormdata_2009.csv', 'stormdata_2010.csv', 'stormdata_2011.csv'\n",
        "            , 'stormdata_2012.csv', 'stormdata_2013.csv'] \n",
        "allSt = []\n",
        "for f in filenames:\n",
        "  allSt.append(pd.read_csv(f,encoding='iso-8859-1'))\n",
        "  \n",
        "#merging atlantic and pacific data  \n",
        "atlPacFiles = ['atlantic.csv', 'pacific.csv']\n",
        "AtlaPaci = []\n",
        "for f in atlPacFiles:\n",
        "  AtlaPaci.append(pd.read_csv(f,encoding='iso-8859-1'))\n",
        "\n",
        "#counting the number of unique events of each year from corresponding event type column  \n",
        "events96 = St96['EVENT_TYPE'].loc[St96['EVENT_TYPE'].shift() != St96['EVENT_TYPE']].sum()\n",
        "events97 = St97['EVENT_TYPE'].loc[St97['EVENT_TYPE'].shift() != St97['EVENT_TYPE']].sum()\n",
        "events98 = St98['EVENT_TYPE'].loc[St98['EVENT_TYPE'].shift() != St98['EVENT_TYPE']].sum()\n",
        "events99 = St99['EVENT_TYPE'].loc[St99['EVENT_TYPE'].shift() != St99['EVENT_TYPE']].sum()\n",
        "events00 = St00['EVENT_TYPE'].loc[St00['EVENT_TYPE'].shift() != St00['EVENT_TYPE']].sum()\n",
        "events01 = St01['EVENT_TYPE'].loc[St01['EVENT_TYPE'].shift() != St01['EVENT_TYPE']].sum()\n",
        "events02 = St02['EVENT_TYPE'].loc[St02['EVENT_TYPE'].shift() != St02['EVENT_TYPE']].sum()\n",
        "events03 = St03['EVENT_TYPE'].loc[St03['EVENT_TYPE'].shift() != St03['EVENT_TYPE']].sum()\n",
        "events04 = St04['EVENT_TYPE'].loc[St04['EVENT_TYPE'].shift() != St04['EVENT_TYPE']].sum()\n",
        "events05 = St05['EVENT_TYPE'].loc[St05['EVENT_TYPE'].shift() != St05['EVENT_TYPE']].sum()\n",
        "events06 = St06['EVENT_TYPE'].loc[St06['EVENT_TYPE'].shift() != St06['EVENT_TYPE']].sum()\n",
        "events07 = St07['EVENT_TYPE'].loc[St07['EVENT_TYPE'].shift() != St07['EVENT_TYPE']].sum()\n",
        "events08 = St08['EVENT_TYPE'].loc[St08['EVENT_TYPE'].shift() != St08['EVENT_TYPE']].sum()\n",
        "events09 = St09['EVENT_TYPE'].loc[St09['EVENT_TYPE'].shift() != St09['EVENT_TYPE']].sum()\n",
        "events10 = St10['EVENT_TYPE'].loc[St10['EVENT_TYPE'].shift() != St10['EVENT_TYPE']].sum()\n",
        "events11 = St11['EVENT_TYPE'].loc[St11['EVENT_TYPE'].shift() != St11['EVENT_TYPE']].sum()\n",
        "events12 = St12['EVENT_TYPE'].loc[St12['EVENT_TYPE'].shift() != St12['EVENT_TYPE']].sum()\n",
        "events13 = St13['EVENT_TYPE'].loc[St13['EVENT_TYPE'].shift() != St13['EVENT_TYPE']].sum()\n",
        "\n",
        "\n",
        "\n",
        "#over 18 years\n",
        "events = [len(events96), len(events97), len(events98), len(events99), len(events00), len(events01), len(events02), \n",
        "         len(events03), len(events04), len(events05), len(events06), len(events07), len(events08), len(events09), \n",
        "         len(events10), len(events11), len(events12), len(events13)]\n",
        "\n",
        "\n",
        "\n",
        "\n"
      ],
      "execution_count": 0,
      "outputs": [
        {
          "output_type": "stream",
          "text": [
            "/usr/local/lib/python3.6/dist-packages/IPython/core/interactiveshell.py:2718: DtypeWarning: Columns (26,28,49) have mixed types. Specify dtype option on import or set low_memory=False.\n",
            "  interactivity=interactivity, compiler=compiler, result=result)\n",
            "/usr/local/lib/python3.6/dist-packages/IPython/core/interactiveshell.py:2718: DtypeWarning: Columns (28) have mixed types. Specify dtype option on import or set low_memory=False.\n",
            "  interactivity=interactivity, compiler=compiler, result=result)\n"
          ],
          "name": "stderr"
        }
      ]
    },
    {
      "metadata": {
        "id": "0UJ3aSbBo2e7",
        "colab_type": "code",
        "colab": {}
      },
      "cell_type": "code",
      "source": [
        "y1= np.matrix(events).transpose()\n",
        "x1 = np.matrix(allAvgTemps).transpose()\n",
        "\n",
        "#X = sm.add_constant(x1)"
      ],
      "execution_count": 0,
      "outputs": []
    },
    {
      "metadata": {
        "id": "_SYRHs7GLPSR",
        "colab_type": "code",
        "outputId": "e67ed0c1-0795-4c6e-b4f9-39f0c9e99ead",
        "colab": {
          "base_uri": "https://localhost:8080/",
          "height": 463
        }
      },
      "cell_type": "code",
      "source": [
        "MODEL = sm.OLS(y1,x1)\n",
        "results = MODEL.fit()\n",
        "\n",
        "\n",
        "print('Coefficients: ', results.params[0:2]) # = 24977.85368967\n",
        "print('Intercept: ', results.params[0])# = 24977.853689666168\n",
        "print('P-Values: ', results.pvalues) # = 1.50333188e-13\n",
        "print('R Squared: ', results.rsquared) # = 0.9623980442691629\n",
        "\n",
        "x1 = np.array(x1)\n",
        "y1 = np.array(y1)\n",
        "plt.scatter(x1, y1,  color='black')\n",
        "plt.title('Scatterplot of Weather Events with Temperature in the USA over 18 years')\n",
        "plt.xlabel('Temperature in Celsius')\n",
        "plt.ylabel('Number of Natural Events Occured')"
      ],
      "execution_count": 0,
      "outputs": [
        {
          "output_type": "stream",
          "text": [
            "Coefficients:  [24977.85368967]\n",
            "Intercept:  24977.853689666168\n",
            "P-Values:  [1.50333188e-13]\n",
            "R Squared:  0.9623980442691629\n"
          ],
          "name": "stdout"
        },
        {
          "output_type": "execute_result",
          "data": {
            "text/plain": [
              "Text(0, 0.5, 'Number of Natural Events Occured')"
            ]
          },
          "metadata": {
            "tags": []
          },
          "execution_count": 121
        },
        {
          "output_type": "display_data",
          "data": {
            "image/png": "[encoded data removed]",
            "text/plain": [
              "<Figure size 576x396 with 1 Axes>"
            ]
          },
          "metadata": {
            "tags": []
          }
        }
      ]
    },
    {
      "metadata": {
        "id": "1XI0GY01OJi4",
        "colab_type": "code",
        "colab": {}
      },
      "cell_type": "code",
      "source": [
        "#counting number of unique tropical storms and hurricanes for each year\n",
        "storms96 = pac.loc[(pac['Date'] >= 19960513) & (pac['Date'] < 19970601), 'Name'].nunique()\n",
        "storms97 = pac.loc[(pac['Date'] >= 19970601) & (pac['Date'] < 19980611), 'Name'].nunique()\n",
        "storms98 = pac.loc[(pac['Date'] >= 19980611) & (pac['Date'] < 19990618), 'Name'].nunique()\n",
        "storms99 = pac.loc[(pac['Date'] >= 19990618) & (pac['Date'] < 20000522), 'Name'].nunique()\n",
        "storms00 = pac.loc[(pac['Date'] >= 20000522) & (pac['Date'] < 20001002), 'Name'].nunique()\n",
        "storms01 = pac.loc[(pac['Date'] >= 20001002) & (pac['Date'] < 20020524), 'Name'].nunique()\n",
        "storms02 = pac.loc[(pac['Date'] >= 20020524) & (pac['Date'] < 20030519), 'Name'].nunique()\n",
        "storms03 = pac.loc[(pac['Date'] >= 20030519) & (pac['Date'] < 20040522), 'Name'].nunique()\n",
        "storms04 = pac.loc[(pac['Date'] >= 20040522) & (pac['Date'] < 20050517), 'Name'].nunique()\n",
        "storms05 = pac.loc[(pac['Date'] >= 20050517) & (pac['Date'] < 20060527), 'Name'].nunique()\n",
        "storms06 = pac.loc[(pac['Date'] >= 20060527) & (pac['Date'] < 20070527), 'Name'].nunique()\n",
        "storms07 = pac.loc[(pac['Date'] >= 20070527) & (pac['Date'] < 20080529), 'Name'].nunique()\n",
        "storms08 = pac.loc[(pac['Date'] >= 20080529) & (pac['Date'] < 20090617), 'Name'].nunique()\n",
        "storms09 = pac.loc[(pac['Date'] >= 20090617) & (pac['Date'] < 20100528), 'Name'].nunique()\n",
        "storms10 = pac.loc[(pac['Date'] >= 20100528) & (pac['Date'] < 20110607), 'Name'].nunique()\n",
        "storms11 = pac.loc[(pac['Date'] >= 20110607) & (pac['Date'] < 20120513), 'Name'].nunique()\n",
        "storms12 = pac.loc[(pac['Date'] >= 20120513) & (pac['Date'] < 20130513), 'Name'].nunique()\n",
        "storms13 = pac.loc[(pac['Date'] >= 20130513) & (pac['Date'] < 20140522), 'Name'].nunique()\n",
        "\n",
        "storms96Atl = atl.loc[(atl['Date'] >= 19960617) & (atl['Date'] < 19970531), 'Name'].nunique()\n",
        "storms97Atl = atl.loc[(atl['Date'] >= 19970531) & (atl['Date'] < 19980727), 'Name'].nunique()\n",
        "storms98Atl = atl.loc[(atl['Date'] >= 19980727) & (atl['Date'] < 19990611), 'Name'].nunique()\n",
        "storms99Atl = atl.loc[(atl['Date'] >= 19990611) & (atl['Date'] < 20000607), 'Name'].nunique()\n",
        "storms00Atl = atl.loc[(atl['Date'] >= 20000607) & (atl['Date'] < 20011004), 'Name'].nunique()\n",
        "storms01Atl = atl.loc[(atl['Date'] >= 20011004) & (atl['Date'] < 20020714), 'Name'].nunique()\n",
        "storms02Atl = atl.loc[(atl['Date'] >= 20020714) & (atl['Date'] < 20030418), 'Name'].nunique()\n",
        "storms03Atl = atl.loc[(atl['Date'] >= 20030418) & (atl['Date'] < 20040731), 'Name'].nunique()\n",
        "storms04Atl = atl.loc[(atl['Date'] >= 20040731) & (atl['Date'] < 20050608), 'Name'].nunique()\n",
        "storms05Atl = atl.loc[(atl['Date'] >= 20050608) & (atl['Date'] < 20060610), 'Name'].nunique()\n",
        "storms06Atl = atl.loc[(atl['Date'] >= 20060610) & (atl['Date'] < 20070506), 'Name'].nunique()\n",
        "storms07Atl = atl.loc[(atl['Date'] >= 20070506) & (atl['Date'] < 20080531), 'Name'].nunique()\n",
        "storms08Atl = atl.loc[(atl['Date'] >= 20080531) & (atl['Date'] < 20090526), 'Name'].nunique()\n",
        "storms09Atl = atl.loc[(atl['Date'] >= 20090526) & (atl['Date'] < 20100624), 'Name'].nunique()\n",
        "storms10Atl = atl.loc[(atl['Date'] >= 20100624) & (atl['Date'] < 20110628), 'Name'].nunique()\n",
        "storms11Atl = atl.loc[(atl['Date'] >= 20110628) & (atl['Date'] < 20120519), 'Name'].nunique()\n",
        "storms12Atl = atl.loc[(atl['Date'] >= 20120519) & (atl['Date'] < 20130605), 'Name'].nunique()\n",
        "storms13Atl = atl.loc[(atl['Date'] >= 20130605) & (atl['Date'] < 20140628), 'Name'].nunique()\n",
        "\n",
        "atlaPaciSum = [(storms96 + storms96Atl), (storms97 + storms97Atl), (storms98 + storms98Atl), (storms99 + storms99Atl), \n",
        "              (storms00 + storms00Atl), (storms01 + storms01Atl), (storms02 + storms02Atl), (storms03 + storms03Atl), \n",
        "              (storms04 + storms04Atl), (storms05 + storms05Atl), (storms06 + storms06Atl), (storms07 + storms07Atl), \n",
        "              (storms08 + storms08Atl), (storms09 + storms09Atl), (storms10 + storms10Atl), (storms11 + storms10Atl), \n",
        "              (storms12 + storms12Atl), (storms13 + storms13Atl)]\n"
      ],
      "execution_count": 0,
      "outputs": []
    },
    {
      "metadata": {
        "id": "SqxweeY8f-8e",
        "colab_type": "code",
        "outputId": "f2fa3076-f9e8-4bbe-ddd4-6b50ac91cd7f",
        "colab": {
          "base_uri": "https://localhost:8080/",
          "height": 463
        }
      },
      "cell_type": "code",
      "source": [
        "y2= np.matrix(atlaPaciSum).transpose()\n",
        "x2 = np.matrix(allAvgTemps).transpose()\n",
        "\n",
        "MODEL = sm.OLS(y2,x2)\n",
        "results = MODEL.fit()\n",
        "\n",
        "\n",
        "\n",
        "print('Coefficients: ', results.params[0:2]) # = 3.37119661\n",
        "print('Intercept: ', results.params[0])# = 3.3711966093038055\n",
        "print('P-Values: ', results.pvalues) # = 3.28899097e-14\n",
        "print('R Squared: ', results.rsquared) # = 0.9685435778480557\n",
        "\n",
        "x2 = np.array(x2)\n",
        "y2 = np.array(y2)\n",
        "plt.scatter(x2, y2,  color='black')\n",
        "plt.title('Scatterplot of Weather Events with Temperature in the USA over 18 years')\n",
        "plt.xlabel('Temperature in Celsius')\n",
        "plt.ylabel('Number of Hurricanes and Typhoons Occured')\n"
      ],
      "execution_count": 0,
      "outputs": [
        {
          "output_type": "stream",
          "text": [
            "Coefficients:  [3.37119661]\n",
            "Intercept:  3.3711966093038055\n",
            "P-Values:  [3.28899097e-14]\n",
            "R Squared:  0.9685435778480557\n"
          ],
          "name": "stdout"
        },
        {
          "output_type": "execute_result",
          "data": {
            "text/plain": [
              "Text(0, 0.5, 'Number of Hurricanes and Typhoons Occured')"
            ]
          },
          "metadata": {
            "tags": []
          },
          "execution_count": 122
        },
        {
          "output_type": "display_data",
          "data": {
            "image/png": "[encoded data removed]",
            "text/plain": [
              "<Figure size 576x396 with 1 Axes>"
            ]
          },
          "metadata": {
            "tags": []
          }
        }
      ]
    },
    {
      "metadata": {
        "id": "pKzt9f_SaoEq",
        "colab_type": "code",
        "outputId": "63a379c8-d0fe-4a2e-e822-805bb13e5ac7",
        "colab": {
          "base_uri": "https://localhost:8080/",
          "height": 393
        }
      },
      "cell_type": "code",
      "source": [
        "tempY = allAvgTemps\n",
        "YearX = [1996, 1997, 1998, 1999, 2000, 2001,\n",
        "     2002, 2003, 2004, 2005, 2006, 2007,\n",
        "     2008, 2009, 2010, 2011, 2012, 2013]\n",
        "\n",
        "plt.xlabel('Year')\n",
        "plt.ylabel('Average U.S. Temperature')\n",
        "plt.title('Line Graph of Average U.S. Temperature from 1996-2013')\n",
        "plt.ylim(8, 11)\n",
        "plt.scatter(YearX, tempY)\n",
        "plt.plot(np.unique(YearX), np.poly1d(np.polyfit(YearX, tempY, 1))(np.unique(YearX)))\n"
      ],
      "execution_count": 0,
      "outputs": [
        {
          "output_type": "execute_result",
          "data": {
            "text/plain": [
              "[<matplotlib.lines.Line2D at 0x7f107c162780>]"
            ]
          },
          "metadata": {
            "tags": []
          },
          "execution_count": 117
        },
        {
          "output_type": "display_data",
          "data": {
            "image/png": "[encoded data removed]",
            "text/plain": [
              "<Figure size 576x396 with 1 Axes>"
            ]
          },
          "metadata": {
            "tags": []
          }
        }
      ]
    },
    {
      "metadata": {
        "id": "eASe0f1ZfQnI",
        "colab_type": "code",
        "outputId": "c7afd4eb-142f-4ab1-a10f-5eace2b8f379",
        "colab": {
          "base_uri": "https://localhost:8080/",
          "height": 393
        }
      },
      "cell_type": "code",
      "source": [
        "myColors = 'rgby'\n",
        "\n",
        "\n",
        "plt.xlabel('Year')\n",
        "plt.ylabel('Natural Disaster Occurences in the U.S.')\n",
        "plt.title('Bar Graph of Each Year with Total of Natural Diasters in the U.S.')\n",
        "\n",
        "plt.plot(np.unique(YearX), np.poly1d(np.polyfit(YearX, events, 1))(np.unique(YearX)))\n",
        "\n",
        "plt.bar(YearX, events, width=.5, align='center', color=myColors)\n",
        "\n"
      ],
      "execution_count": 0,
      "outputs": [
        {
          "output_type": "execute_result",
          "data": {
            "text/plain": [
              "<BarContainer object of 18 artists>"
            ]
          },
          "metadata": {
            "tags": []
          },
          "execution_count": 119
        },
        {
          "output_type": "display_data",
          "data": {
            "image/png": "[encoded data removed]",
            "text/plain": [
              "<Figure size 576x396 with 1 Axes>"
            ]
          },
          "metadata": {
            "tags": []
          }
        }
      ]
    }
  ]
}